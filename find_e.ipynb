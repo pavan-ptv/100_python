{
 "cells": [
  {
   "cell_type": "code",
   "execution_count": 2,
   "metadata": {},
   "outputs": [],
   "source": [
    "'''capstone project 2 in python'''\n",
    "import math\n",
    "\n",
    "\n",
    "def roundpi():\n",
    "    ''' printing the pi value upto given decimal places'''\n",
    "    place = int(input(\"enter the limit of decimal value:\"))\n",
    "    if place in range(0,16):\n",
    "        p = math.e\n",
    "        e = str(p)\n",
    "        q = e[2:]\n",
    "        print(\"the value of required pi is:{}\".format(e[0:2]+q[0:place]))\n",
    "    else:\n",
    "        print(\"pi has only 15 decimal places\")\n",
    "\n",
    "\n",
    "\n"
   ]
  },
  {
   "cell_type": "code",
   "execution_count": 5,
   "metadata": {},
   "outputs": [
    {
     "name": "stdout",
     "output_type": "stream",
     "text": [
      "enter the limit of decimal value:5\n",
      "the value of required pi is:2.71828\n"
     ]
    }
   ],
   "source": [
    "roundpi()"
   ]
  },
  {
   "cell_type": "code",
   "execution_count": 4,
   "metadata": {},
   "outputs": [
    {
     "data": {
      "text/plain": [
       "2.718281828459045"
      ]
     },
     "execution_count": 4,
     "metadata": {},
     "output_type": "execute_result"
    }
   ],
   "source": [
    "import math\n",
    "math.e"
   ]
  },
  {
   "cell_type": "code",
   "execution_count": null,
   "metadata": {},
   "outputs": [],
   "source": []
  }
 ],
 "metadata": {
  "kernelspec": {
   "display_name": "Python 3",
   "language": "python",
   "name": "python3"
  },
  "language_info": {
   "codemirror_mode": {
    "name": "ipython",
    "version": 3
   },
   "file_extension": ".py",
   "mimetype": "text/x-python",
   "name": "python",
   "nbconvert_exporter": "python",
   "pygments_lexer": "ipython3",
   "version": "3.7.3"
  }
 },
 "nbformat": 4,
 "nbformat_minor": 2
}
