{
 "cells": [
  {
   "cell_type": "code",
   "execution_count": 6,
   "metadata": {},
   "outputs": [],
   "source": [
    "'''Have the user enter a number and find all Prime Factors (if there are any) and display them'''\n",
    "PRIME = []\n",
    "LST = []\n",
    "\n",
    "\n",
    "def prime_factorisation():\n",
    "    '''function gives the prime factors of the input numbers'''\n",
    "    value = int(input(\"enter the number:\"))\n",
    "    for k in range(1, value+1):\n",
    "        p_count = 0\n",
    "        for i in range(1, k+1):\n",
    "            if k % i == 0:\n",
    "                p_count = p_count + 1\n",
    "        if p_count == 2:\n",
    "            PRIME.extend([k])\n",
    "    for i in PRIME:\n",
    "        if value % i == 0:\n",
    "            LST.extend([i])\n",
    "    print(\"prime factors of {} are \".format(value), LST)\n",
    "    return LST\n",
    "\n",
    "\n",
    "\n"
   ]
  },
  {
   "cell_type": "code",
   "execution_count": 7,
   "metadata": {},
   "outputs": [
    {
     "name": "stdout",
     "output_type": "stream",
     "text": [
      "enter the number:5\n",
      "prime factors of 5 are  [5]\n"
     ]
    },
    {
     "data": {
      "text/plain": [
       "[5]"
      ]
     },
     "execution_count": 7,
     "metadata": {},
     "output_type": "execute_result"
    }
   ],
   "source": [
    "prime_factorisation()"
   ]
  },
  {
   "cell_type": "code",
   "execution_count": null,
   "metadata": {},
   "outputs": [],
   "source": []
  }
 ],
 "metadata": {
  "kernelspec": {
   "display_name": "Python 3",
   "language": "python",
   "name": "python3"
  },
  "language_info": {
   "codemirror_mode": {
    "name": "ipython",
    "version": 3
   },
   "file_extension": ".py",
   "mimetype": "text/x-python",
   "name": "python",
   "nbconvert_exporter": "python",
   "pygments_lexer": "ipython3",
   "version": "3.7.3"
  }
 },
 "nbformat": 4,
 "nbformat_minor": 2
}
