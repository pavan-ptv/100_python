{
 "cells": [
  {
   "cell_type": "code",
   "execution_count": null,
   "metadata": {},
   "outputs": [],
   "source": []
  },
  {
   "cell_type": "code",
   "execution_count": 4,
   "metadata": {},
   "outputs": [],
   "source": [
    "'''this is a program to give pi to n places which is given by user '''\n",
    "'''there are two ways of finding a pi value in python'''\n",
    "'''1: using the math library and using the built in pi value 2: generating a pi value by formulae'''\n",
    "import math \n",
    "\n",
    "def fact(k):\n",
    "    factorial = 1\n",
    "    for i in range(0,k+1):\n",
    "        while k != 0:\n",
    "            factorial = factorial * k\n",
    "            k = k-1\n",
    "    return factorial\n",
    "        \n",
    "    \n",
    "def find_pi():\n",
    "    n = 0\n",
    "    sum = (fact(6*n)*((54514013*n)+13591409))/((fact(3*n))*(fact(n)**3)*((-262537412640768000)**n))\n",
    "    pie = (426880*(10005**0.5))/sum\n",
    "    val_n = int(input(\"enter the limit digit of pie whithin 15:\"))\n",
    "    p = str(pie)\n",
    "    q = p[2:]\n",
    "    print(\"the value of required pi is:{}\".format(p[0:2]+q[0:val_n]))\n",
    "    \n",
    "    \n",
    "    \n",
    "    \n",
    "\n",
    "\n"
   ]
  },
  {
   "cell_type": "code",
   "execution_count": 5,
   "metadata": {},
   "outputs": [
    {
     "name": "stdout",
     "output_type": "stream",
     "text": [
      "enter the limit digit of pie whithin 15:6\n",
      "the value of required pi is:3.141592\n"
     ]
    }
   ],
   "source": [
    "find_pi()"
   ]
  },
  {
   "cell_type": "code",
   "execution_count": null,
   "metadata": {},
   "outputs": [],
   "source": []
  },
  {
   "cell_type": "code",
   "execution_count": null,
   "metadata": {},
   "outputs": [],
   "source": []
  }
 ],
 "metadata": {
  "kernelspec": {
   "display_name": "Python 3",
   "language": "python",
   "name": "python3"
  },
  "language_info": {
   "codemirror_mode": {
    "name": "ipython",
    "version": 3
   },
   "file_extension": ".py",
   "mimetype": "text/x-python",
   "name": "python",
   "nbconvert_exporter": "python",
   "pygments_lexer": "ipython3",
   "version": "3.7.3"
  }
 },
 "nbformat": 4,
 "nbformat_minor": 2
}
