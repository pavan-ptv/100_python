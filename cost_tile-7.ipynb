{
 "cells": [
  {
   "cell_type": "code",
   "execution_count": 1,
   "metadata": {},
   "outputs": [
    {
     "name": "stdout",
     "output_type": "stream",
     "text": [
      "enter the cost of tile for 1 feet * 1 feet:34\n",
      "tile cost per foot is: $34\n",
      "enter size of width in feet:12\n",
      "enter size of height in feet:34\n",
      "cost of tile for the floor is:$13872\n",
      "None\n"
     ]
    }
   ],
   "source": [
    "# Find Cost of Tile to Cover W x H Floor :\n",
    "# Calculate the total cost of tile it would take to cover a floor plan of width and height, using a cost entered by the user.\n",
    "# Objectives:\n",
    "# ask for floor dimensions in width and height and determine the cost of tile\n",
    "\n",
    "cost_eachtile = int(input(\"enter the cost of tile for 1 feet * 1 feet:\"))\n",
    "class Floor:\n",
    "    def __init__(self):\n",
    "        self.width = int(input(\"enter size of width in feet:\"))\n",
    "        self.height = int(input(\"enter size of height in feet:\"))\n",
    "    def size_floor(self):\n",
    "        print('the size of floor is (note: measurement in foot):{}'.format(self.width * self.height))\n",
    "    def cost_tfloor(self):\n",
    "        print('cost of tile for the floor is:${}'.format(self.width*self.height*cost_eachtile))\n",
    "    \n",
    "print('tile cost per foot is: ${}'.format(cost_eachtile))\n",
    "floor = Floor()\n",
    "#print(floor.size_floor())\n",
    "print(floor.cost_tfloor())"
   ]
  },
  {
   "cell_type": "code",
   "execution_count": null,
   "metadata": {},
   "outputs": [],
   "source": []
  }
 ],
 "metadata": {
  "kernelspec": {
   "display_name": "Python 3",
   "language": "python",
   "name": "python3"
  },
  "language_info": {
   "codemirror_mode": {
    "name": "ipython",
    "version": 3
   },
   "file_extension": ".py",
   "mimetype": "text/x-python",
   "name": "python",
   "nbconvert_exporter": "python",
   "pygments_lexer": "ipython3",
   "version": "3.7.3"
  }
 },
 "nbformat": 4,
 "nbformat_minor": 2
}
