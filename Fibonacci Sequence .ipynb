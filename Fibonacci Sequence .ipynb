{
 "cells": [
  {
   "cell_type": "code",
   "execution_count": 1,
   "metadata": {},
   "outputs": [],
   "source": [
    "'''Fibonacci sequence'''\n",
    "FIB_SEQ = []\n",
    "\n",
    "\n",
    "def fib():\n",
    "    '''logic for the fibonacci series without generators'''\n",
    "    val_1 = 1\n",
    "    val_2 = 1\n",
    "    value = int(input(\"enter the limit of fibonacci sequence\"))\n",
    "    FIB_SEQ.extend([val_1])\n",
    "    i = 0\n",
    "    while i < value+1:\n",
    "        val_1, val_2 = val_2, val_1+val_2\n",
    "        FIB_SEQ.extend([val_1])\n",
    "        i = i+1\n",
    "    print(FIB_SEQ)\n"
   ]
  },
  {
   "cell_type": "code",
   "execution_count": 2,
   "metadata": {},
   "outputs": [
    {
     "name": "stdout",
     "output_type": "stream",
     "text": [
      "enter the limit of fibonacci sequence3\n",
      "[1, 1, 2, 3, 5]\n"
     ]
    }
   ],
   "source": [
    "fib()"
   ]
  },
  {
   "cell_type": "code",
   "execution_count": null,
   "metadata": {},
   "outputs": [],
   "source": []
  }
 ],
 "metadata": {
  "kernelspec": {
   "display_name": "Python 3",
   "language": "python",
   "name": "python3"
  },
  "language_info": {
   "codemirror_mode": {
    "name": "ipython",
    "version": 3
   },
   "file_extension": ".py",
   "mimetype": "text/x-python",
   "name": "python",
   "nbconvert_exporter": "python",
   "pygments_lexer": "ipython3",
   "version": "3.7.3"
  }
 },
 "nbformat": 4,
 "nbformat_minor": 2
}
