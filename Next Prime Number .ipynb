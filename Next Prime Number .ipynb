{
 "cells": [
  {
   "cell_type": "code",
   "execution_count": 1,
   "metadata": {},
   "outputs": [],
   "source": [
    "'''The program prints the prime numbers one by one untill the user specufies to stop'''\n",
    "\n",
    "p_value = 2\n",
    "\n",
    "\n",
    "def prime_numbers(p_value):\n",
    "    '''function gives the prime numbers.'''\n",
    "    prime_list = []\n",
    "    #value = int(input(\"enter the number:\"))\n",
    "    for k in range(1, p_value+1):\n",
    "        p_count = 0\n",
    "        for i in range(1, k+1):\n",
    "            if k % i == 0:\n",
    "                p_count = p_count + 1\n",
    "        if p_count == 2:\n",
    "            prime_list.extend([k])\n",
    "    print(prime_list)\n",
    "\n",
    "def next_prime():\n",
    "    '''function give the next prime numbers until the user intends to stop'''\n",
    "    prime_numbers(p_value)\n",
    "    i = 1\n",
    "    option = str(input(\"yes/no\"))\n",
    "    while (i >= p_value or i < p_value) and option == 'yes':\n",
    "        print(\" you can always say stop to exit\")\n",
    "        choose = str(input(\" do you want to continue:\"))\n",
    "        if choose == 'yes':\n",
    "            print(\"the primes between including {} and {} are:\".format(p_value, p_value+i))\n",
    "            prime_numbers(p_value+i)\n",
    "        if choose == 'no':\n",
    "            print('thank you ')\n",
    "            option = 'no'\n",
    "        i = i+1\n",
    "\n"
   ]
  },
  {
   "cell_type": "code",
   "execution_count": 2,
   "metadata": {},
   "outputs": [
    {
     "name": "stdout",
     "output_type": "stream",
     "text": [
      "[2]\n",
      "yes/noyes\n",
      " you can always say stop to exit\n",
      " do you want to continue:yes\n",
      "the primes between including 2 and 3 are:\n",
      "[2, 3]\n",
      " you can always say stop to exit\n",
      " do you want to continue:yes\n",
      "the primes between including 2 and 4 are:\n",
      "[2, 3]\n",
      " you can always say stop to exit\n",
      " do you want to continue:yes\n",
      "the primes between including 2 and 5 are:\n",
      "[2, 3, 5]\n",
      " you can always say stop to exit\n",
      " do you want to continue:no\n",
      "thank you \n"
     ]
    }
   ],
   "source": [
    "next_prime()"
   ]
  },
  {
   "cell_type": "code",
   "execution_count": null,
   "metadata": {},
   "outputs": [],
   "source": []
  }
 ],
 "metadata": {
  "kernelspec": {
   "display_name": "Python 3",
   "language": "python",
   "name": "python3"
  },
  "language_info": {
   "codemirror_mode": {
    "name": "ipython",
    "version": 3
   },
   "file_extension": ".py",
   "mimetype": "text/x-python",
   "name": "python",
   "nbconvert_exporter": "python",
   "pygments_lexer": "ipython3",
   "version": "3.7.3"
  }
 },
 "nbformat": 4,
 "nbformat_minor": 2
}
