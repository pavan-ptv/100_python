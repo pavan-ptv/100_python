{
 "cells": [
  {
   "cell_type": "markdown",
   "metadata": {},
   "source": [
    "python program to print whether leap year or not"
   ]
  },
  {
   "cell_type": "code",
   "execution_count": 1,
   "metadata": {},
   "outputs": [],
   "source": [
    "#logic:\n",
    "#if a year is divisible by 4 then it is a leap year OR if a year is divisible by 100 then it is not a leap year"
   ]
  },
  {
   "cell_type": "code",
   "execution_count": 2,
   "metadata": {},
   "outputs": [],
   "source": [
    "def leapyear_check(num):\n",
    "    if num%4 == 0:\n",
    "        print(\"{} is a leap year\".format(num))\n",
    "    else:\n",
    "        print(\"{} is not a leap year\".format(num))"
   ]
  },
  {
   "cell_type": "code",
   "execution_count": 3,
   "metadata": {},
   "outputs": [
    {
     "name": "stdout",
     "output_type": "stream",
     "text": [
      "2001 is not a leap year\n"
     ]
    }
   ],
   "source": [
    "leapyear_check(2001)"
   ]
  },
  {
   "cell_type": "markdown",
   "metadata": {},
   "source": [
    "program to check for even or odd"
   ]
  },
  {
   "cell_type": "code",
   "execution_count": 4,
   "metadata": {},
   "outputs": [],
   "source": [
    "#logic:\n",
    "#if a number is divisible by 2 then it is an even number else it is a odd number"
   ]
  },
  {
   "cell_type": "code",
   "execution_count": 5,
   "metadata": {},
   "outputs": [],
   "source": [
    "def even_check(num):\n",
    "    if num%2 == 0:\n",
    "        print(\"{} is an even number\".format(num))\n",
    "    else:\n",
    "        print(\"{} is an odd number\".format(num))"
   ]
  },
  {
   "cell_type": "code",
   "execution_count": 6,
   "metadata": {},
   "outputs": [
    {
     "name": "stdout",
     "output_type": "stream",
     "text": [
      "2345 is an odd number\n"
     ]
    }
   ],
   "source": [
    "even_check(2345)"
   ]
  },
  {
   "cell_type": "markdown",
   "metadata": {},
   "source": [
    "program to print even or odd numbers in a given range"
   ]
  },
  {
   "cell_type": "code",
   "execution_count": 7,
   "metadata": {},
   "outputs": [],
   "source": [
    "#logic:\n",
    "#if a number is divisible by 2 then it is an even number else it is a odd number"
   ]
  },
  {
   "cell_type": "code",
   "execution_count": 8,
   "metadata": {},
   "outputs": [],
   "source": [
    "def numbers_print():\n",
    "    num_range = int(input(\"enter the range of numbers to be displayed:\"))\n",
    "    opt = int(input(\"1:even numbers 2:odd numbers. select option:\"))\n",
    "    for i in range(0,num_range):\n",
    "        if opt == 1:\n",
    "            if i % 2 == 0:\n",
    "                print(i)\n",
    "        elif opt == 2:\n",
    "            if i % 2 != 0:\n",
    "                print(i)\n",
    "        "
   ]
  },
  {
   "cell_type": "code",
   "execution_count": 9,
   "metadata": {},
   "outputs": [
    {
     "name": "stdout",
     "output_type": "stream",
     "text": [
      "enter the range of numbers to be displayed:5\n",
      "1:even numbers 2:odd numbers. select option:1\n",
      "0\n",
      "2\n",
      "4\n"
     ]
    }
   ],
   "source": [
    "numbers_print()"
   ]
  },
  {
   "cell_type": "code",
   "execution_count": 10,
   "metadata": {},
   "outputs": [
    {
     "name": "stdout",
     "output_type": "stream",
     "text": [
      "enter the range of numbers to be displayed:3\n",
      "1:even numbers 2:odd numbers. select option:1\n",
      "0\n",
      "2\n"
     ]
    }
   ],
   "source": [
    "numbers_print()\n"
   ]
  },
  {
   "cell_type": "markdown",
   "metadata": {},
   "source": [
    "printing message based on time"
   ]
  },
  {
   "cell_type": "code",
   "execution_count": 11,
   "metadata": {},
   "outputs": [],
   "source": [
    "#logic:\n",
    "#we are using 24 hour format so,\n",
    "#00:00:00 implies good morning\n",
    "#12:00:00 implies good afternoon\n",
    "#17:00:00 implies good evening\n",
    "#22:00:00 implies good night"
   ]
  },
  {
   "cell_type": "code",
   "execution_count": 12,
   "metadata": {},
   "outputs": [],
   "source": [
    "def message():\n",
    "    inputs = str(input(\"enter the time enter in hh:mm:ss format:\"))\n",
    "    if (int(inputs[0]) in range(0,2)) and (int(inputs[1]) in range(0,2)):\n",
    "        print(\"good morning\")\n",
    "    elif (int(inputs[0]) in range(1,2)) and (int(inputs[1]) in range(2,7)):\n",
    "        print(\"good afternoon\")\n",
    "    elif (int(inputs[0]) in range(1,2)) and (int(inputs[1]) >= 7):\n",
    "        print(\"good evening\")\n",
    "    else:\n",
    "        print(\"good night\")"
   ]
  },
  {
   "cell_type": "code",
   "execution_count": 13,
   "metadata": {},
   "outputs": [
    {
     "name": "stdout",
     "output_type": "stream",
     "text": [
      "enter the time enter in hh:mm:ss format:00\n",
      "good morning\n"
     ]
    }
   ],
   "source": [
    "message()\n"
   ]
  },
  {
   "cell_type": "markdown",
   "metadata": {},
   "source": [
    "program to store and check username and password"
   ]
  },
  {
   "cell_type": "code",
   "execution_count": 14,
   "metadata": {},
   "outputs": [],
   "source": [
    "#logic:\n",
    "#dynamically creating a dictionary"
   ]
  },
  {
   "cell_type": "code",
   "execution_count": 15,
   "metadata": {},
   "outputs": [],
   "source": [
    "def entry():\n",
    "    d = {}\n",
    "    i = True\n",
    "    while i == True:\n",
    "        input1 = str(input(\"do you have an account:\"))\n",
    "        if input1 == \"no\" or input1 == \"NO\" or input1 == \"No\":\n",
    "            print(\"create an account first\")\n",
    "            user = str(input(\"give username:\"))\n",
    "            password = input(\"enter password:\")\n",
    "            d[user] = password\n",
    "            print(\"you are all set!!!\")\n",
    "        elif input1 == \"yes\":\n",
    "            name = input(\"enter username\")\n",
    "            print(\"welcome {}\".format(name))\n",
    "            passwords = input(\"enter password\")\n",
    "            if d[name] == passwords:\n",
    "                print(\"welcome\")\n",
    "            else:\n",
    "                print(\"invalid username or password\")\n",
    "                i = False\n"
   ]
  },
  {
   "cell_type": "code",
   "execution_count": 16,
   "metadata": {},
   "outputs": [
    {
     "name": "stdout",
     "output_type": "stream",
     "text": [
      "do you have an account:no\n",
      "create an account first\n",
      "give username:pavan\n",
      "enter password:pavan\n",
      "you are all set!!!\n",
      "do you have an account:yes\n",
      "enter usernamepavan\n",
      "welcome pavan\n",
      "enter passwordpavan\n",
      "welcome\n",
      "do you have an account:yes\n",
      "enter usernamepavan\n",
      "welcome pavan\n",
      "enter passwordpaVna\n",
      "invalid username or password\n"
     ]
    }
   ],
   "source": [
    "entry()"
   ]
  },
  {
   "cell_type": "markdown",
   "metadata": {},
   "source": [
    "program to print leap years in the given range\n"
   ]
  },
  {
   "cell_type": "code",
   "execution_count": 17,
   "metadata": {},
   "outputs": [],
   "source": [
    "def years():\n",
    "    lowyear_range = int(input(\"enter the first year of range\"))\n",
    "    highyear_range = int(input(\"enter the last year of range\"))\n",
    "    print(\"leap years are:\")\n",
    "    for i in range(lowyear_range,highyear_range+1):\n",
    "        if i % 4 == 0:\n",
    "            print(i)"
   ]
  },
  {
   "cell_type": "code",
   "execution_count": 18,
   "metadata": {},
   "outputs": [
    {
     "name": "stdout",
     "output_type": "stream",
     "text": [
      "enter the first year of range2000\n",
      "enter the last year of range2050\n",
      "leap years are:\n",
      "2000\n",
      "2004\n",
      "2008\n",
      "2012\n",
      "2016\n",
      "2020\n",
      "2024\n",
      "2028\n",
      "2032\n",
      "2036\n",
      "2040\n",
      "2044\n",
      "2048\n"
     ]
    }
   ],
   "source": [
    "years()"
   ]
  },
  {
   "cell_type": "markdown",
   "metadata": {},
   "source": [
    "program to print day"
   ]
  },
  {
   "cell_type": "code",
   "execution_count": 19,
   "metadata": {},
   "outputs": [],
   "source": [
    "def day_name():\n",
    "    d = {'1':'sunday','2':'monday','3':'tuesday','4':'wednesday','5':'thursday','6':'friday','7':'saturday'}\n",
    "    inputs2 = input(\"enter the number in range of 1 to 7 to get day:\")\n",
    "    print(\"the day of \" + inputs2 + \" is:\",d[inputs2])"
   ]
  },
  {
   "cell_type": "code",
   "execution_count": 20,
   "metadata": {},
   "outputs": [
    {
     "name": "stdout",
     "output_type": "stream",
     "text": [
      "enter the number in range of 1 to 7 to get day:1\n",
      "the day of 1 is: sunday\n"
     ]
    }
   ],
   "source": [
    "day_name()"
   ]
  },
  {
   "cell_type": "markdown",
   "metadata": {},
   "source": [
    "program to print multiplication tables"
   ]
  },
  {
   "cell_type": "code",
   "execution_count": 21,
   "metadata": {},
   "outputs": [],
   "source": [
    "# multiplication table\n",
    "LENGTH_OF_TABLE = []\n",
    "MUL_TABLE = []\n",
    "\n",
    "\n",
    "def m_table():\n",
    "    number = int(input(\"specify the length of table:\"))\n",
    "    table_range = int(input(\" enter the range of table:\"))\n",
    "    for i in range(0, number+1):\n",
    "        LENGTH_OF_TABLE.append(i)\n",
    "    print('length of table is :', LENGTH_OF_TABLE)\n",
    "    for number in range(1, table_range+1):\n",
    "        MUL_TABLE.append(number)\n",
    "    print(MUL_TABLE)\n",
    "    for j in MUL_TABLE:\n",
    "        for k in LENGTH_OF_TABLE:\n",
    "            yield f'{j} X {k} = {j * k}'\n",
    "\n"
   ]
  },
  {
   "cell_type": "code",
   "execution_count": 22,
   "metadata": {},
   "outputs": [
    {
     "name": "stdout",
     "output_type": "stream",
     "text": [
      "specify the length of table:2\n",
      " enter the range of table:10\n",
      "length of table is : [0, 1, 2]\n",
      "[1, 2, 3, 4, 5, 6, 7, 8, 9, 10]\n",
      "1 X 0 = 0\n",
      "1 X 1 = 1\n",
      "1 X 2 = 2\n",
      "2 X 0 = 0\n",
      "2 X 1 = 2\n",
      "2 X 2 = 4\n",
      "3 X 0 = 0\n",
      "3 X 1 = 3\n",
      "3 X 2 = 6\n",
      "4 X 0 = 0\n",
      "4 X 1 = 4\n",
      "4 X 2 = 8\n",
      "5 X 0 = 0\n",
      "5 X 1 = 5\n",
      "5 X 2 = 10\n",
      "6 X 0 = 0\n",
      "6 X 1 = 6\n",
      "6 X 2 = 12\n",
      "7 X 0 = 0\n",
      "7 X 1 = 7\n",
      "7 X 2 = 14\n",
      "8 X 0 = 0\n",
      "8 X 1 = 8\n",
      "8 X 2 = 16\n",
      "9 X 0 = 0\n",
      "9 X 1 = 9\n",
      "9 X 2 = 18\n",
      "10 X 0 = 0\n",
      "10 X 1 = 10\n",
      "10 X 2 = 20\n"
     ]
    }
   ],
   "source": [
    "for m in m_table():\n",
    "    print(m)"
   ]
  },
  {
   "cell_type": "markdown",
   "metadata": {},
   "source": [
    "program to print prime numbers\n"
   ]
  },
  {
   "cell_type": "code",
   "execution_count": 23,
   "metadata": {},
   "outputs": [],
   "source": [
    "p_value = 2\n",
    "\n",
    "\n",
    "def prime_numbers(p_value):\n",
    "    '''function gives the prime numbers.'''\n",
    "    prime_list = []\n",
    "    #value = int(input(\"enter the number:\"))\n",
    "    for k in range(1, p_value+1):\n",
    "        p_count = 0\n",
    "        for i in range(1, k+1):\n",
    "            if k % i == 0:\n",
    "                p_count = p_count + 1\n",
    "        if p_count == 2:\n",
    "            prime_list.extend([k])\n",
    "    print(prime_list)"
   ]
  },
  {
   "cell_type": "code",
   "execution_count": 24,
   "metadata": {},
   "outputs": [
    {
     "name": "stdout",
     "output_type": "stream",
     "text": [
      "[2, 3, 5, 7]\n"
     ]
    }
   ],
   "source": [
    "prime_numbers(10)"
   ]
  },
  {
   "cell_type": "markdown",
   "metadata": {},
   "source": [
    "program to find the second largest number\n"
   ]
  },
  {
   "cell_type": "code",
   "execution_count": 25,
   "metadata": {},
   "outputs": [],
   "source": [
    "def second_large():\n",
    "    details = []\n",
    "    lst = []\n",
    "    j = int(input(\"enter the range of numbers\"))\n",
    "    i = 0\n",
    "    while i!=j:\n",
    "        opt = str(input(\"yes or no:\"))\n",
    "        if opt == \"yes\":\n",
    "            numbers = int(input(\"enter the numbers:\"))\n",
    "            details.append(numbers)\n",
    "        if opt == \"no\":\n",
    "            i = j\n",
    "    for i in details:\n",
    "        lst.append(i)\n",
    "    print(lst)\n",
    "    lst.remove(max(lst))\n",
    "    #print(lst)\n",
    "    print(\"The second maximum of the numbers is:\",max(lst))"
   ]
  },
  {
   "cell_type": "code",
   "execution_count": 27,
   "metadata": {},
   "outputs": [
    {
     "name": "stdout",
     "output_type": "stream",
     "text": [
      "enter the range of numbers10\n",
      "yes or no:yes\n",
      "enter the numbers:1\n",
      "yes or no:yes\n",
      "enter the numbers:5\n",
      "yes or no:yes\n",
      "enter the numbers:7\n",
      "yes or no:no\n",
      "[1, 5, 7]\n",
      "The second maximum of the numbers is: 5\n"
     ]
    }
   ],
   "source": [
    "second_large()"
   ]
  },
  {
   "cell_type": "markdown",
   "metadata": {},
   "source": []
  }
 ],
 "metadata": {
  "kernelspec": {
   "display_name": "Python 3",
   "language": "python",
   "name": "python3"
  },
  "language_info": {
   "codemirror_mode": {
    "name": "ipython",
    "version": 3
   },
   "file_extension": ".py",
   "mimetype": "text/x-python",
   "name": "python",
   "nbconvert_exporter": "python",
   "pygments_lexer": "ipython3",
   "version": "3.7.3"
  }
 },
 "nbformat": 4,
 "nbformat_minor": 2
}
